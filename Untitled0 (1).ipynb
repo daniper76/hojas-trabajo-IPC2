{
  "nbformat": 4,
  "nbformat_minor": 0,
  "metadata": {
    "colab": {
      "provenance": []
    },
    "kernelspec": {
      "name": "python3",
      "display_name": "Python 3"
    },
    "language_info": {
      "name": "python"
    }
  },
  "cells": [
    {
      "cell_type": "markdown",
      "source": [
        "Listas Enlazadas \n",
        "Definicion de la Receta"
      ],
      "metadata": {
        "id": "uZy7IUF3iVwI"
      }
    },
    {
      "cell_type": "markdown",
      "source": [],
      "metadata": {
        "id": "oiEJeTXNrKG8"
      }
    },
    {
      "cell_type": "code",
      "source": [
        "class receta:\n",
        "  def __init__(self,paciente,fecha_nac,doctor,colegiado,fecha_cita,hora_cita,tipo_consulta,tratamiento):\n",
        "   self.paciente=paciente\n",
        "   self.fecha_nac=fecha_nac\n",
        "   self.doctor=doctor\n",
        "   self.colegiado=colegiado\n",
        "   self.fecha_cita=fecha_cita\n",
        "   self.hora_cita=hora_cita\n",
        "   self.tipo_consulta=tipo_consulta\n",
        "   self.tratamiento=tratamiento\n",
        "   "
      ],
      "metadata": {
        "id": "_Nl99J5OiWiP"
      },
      "execution_count": 44,
      "outputs": []
    },
    {
      "cell_type": "markdown",
      "source": [
        "Definición de la Clase Nodo"
      ],
      "metadata": {
        "id": "a3F8H8OolhSr"
      }
    },
    {
      "cell_type": "code",
      "source": [
        "class nodo:\n",
        "  def __init__(self,receta=None,siguiente=None):\n",
        "    self.receta=receta\n",
        "    self.siguiente=siguiente\n",
        "\n",
        "\n"
      ],
      "metadata": {
        "id": "FJMB6eQqlkac"
      },
      "execution_count": 45,
      "outputs": []
    },
    {
      "cell_type": "markdown",
      "source": [
        "Definición de la clase Lista Enlazada"
      ],
      "metadata": {
        "id": "JNtTFR9QqsqT"
      }
    },
    {
      "cell_type": "code",
      "source": [
        "class lista_enlazada:\n",
        "  def __init__(self) -> None:\n",
        "    self.primero=None\n",
        "\n",
        "  def insertar(self,receta):\n",
        "    if self.primero is None:\n",
        "      self.primero=nodo(receta=receta)\n",
        "      return \n",
        "    actual=self.primero\n",
        "    while actual.siguiente is not None:\n",
        "      actual=actual.siguiente\n",
        "    actual.siguiente=nodo(receta=receta)\n",
        "\n",
        "  def recorrer(self):\n",
        "    actual=self.primero\n",
        "\n",
        "    while actual is not None:\n",
        "      print(\"Paciente: \", actual.receta.paciente, \"| fecha de nacimiento: \", actual.receta.fecha_nac, \"| Doctor: \", actual.receta.doctor, \"| Colegiado: \", actual.receta.colegiado, \"|Fecha de Cita: \", actual.receta.fecha_cita, \"| Hora de cita: \", actual.receta.hora_cita, \"| Tipo de Consulta: \", actual.receta.tipo_consulta, \"| Tratamiento\", actual.receta.tratamiento)\n",
        "      actual=actual.siguiente\n",
        "\n",
        "  def eliminar(self,colegiado,fecha_cita,hora_cita):\n",
        "    actual=self.primero\n",
        "    anterior=None\n",
        "\n",
        "    while actual and actual.receta.colegiado != colegiado and actual.receta.fecha_cita != fecha_cita and actual.receta.fecha_cita != fecha_cita:\n",
        "      anterior=actual\n",
        "      actual=actual.siguiente\n",
        "\n",
        "    if anterior is None:\n",
        "      self.primero=actual.siguiente\n",
        "      actual.siguiente=None\n",
        "    \n",
        "    elif actual:\n",
        "      anterior.siguiente=actual.siguiente\n",
        "      actual.siguiente=None\n",
        "\n",
        "  def modificar(self, paciente):\n",
        "      actual=self.primero\n",
        "\n",
        "      while actual is not None:\n",
        "        if actual.receta.paciente==paciente:\n",
        "          actual.receta.fecha_cita=\"07-07-2025\"\n",
        "          actual.receta.hora_cita=\"08:45\"\n",
        "          return\n",
        "        actual=actual.siguiente\n",
        "    \n",
        "\n",
        "    \n",
        "\n"
      ],
      "metadata": {
        "id": "V3zakpZ5qiqT"
      },
      "execution_count": 46,
      "outputs": []
    },
    {
      "cell_type": "markdown",
      "source": [
        "Creacion de objeto Receta"
      ],
      "metadata": {
        "id": "fLxfbDAIxtEX"
      }
    },
    {
      "cell_type": "code",
      "source": [
        "r1=receta(\"Gerson López\",\"03-10-1999\",\"Melvin Ortiz\",20158,\"17-01-2023\",\"12:00\",\"Medicina general\",\"dos pildoras de acetaminofén cada 6 horas\")\n",
        "r2=receta(\"Karen Gómez\",\"08-05-2000\",\"Jorge Mérdia\",8567,\"31-01-2023\",\"09:00\",\"Medicina interna\",\"Tylenol de 20 ml cada 4 horas\")\n",
        "r3=receta(\"Luis García\",\"17-01-2023\",\"Melvin Ortiz\",20156,\"02-02-2023\",\"11:30\",\"Medicina general\",\"dos cucharadas de Pepto-Bismol cada hora hasta que la diarrea desaparezca\")"
      ],
      "metadata": {
        "id": "YYrmyO6QxxEU"
      },
      "execution_count": 47,
      "outputs": []
    },
    {
      "cell_type": "markdown",
      "source": [
        "Inserción"
      ],
      "metadata": {
        "id": "93Cy72VszDb4"
      }
    },
    {
      "cell_type": "code",
      "source": [
        "lista_e=lista_enlazada()\n",
        "lista_e.insertar(r1)\n",
        "lista_e.insertar(r2)\n",
        "lista_e.insertar(r3)"
      ],
      "metadata": {
        "id": "yn_qXVddzCaN"
      },
      "execution_count": 48,
      "outputs": []
    },
    {
      "cell_type": "markdown",
      "source": [
        "Recorrer"
      ],
      "metadata": {
        "id": "gQsuQqlJrMz7"
      }
    },
    {
      "cell_type": "code",
      "source": [
        "lista_e.recorrer()"
      ],
      "metadata": {
        "colab": {
          "base_uri": "https://localhost:8080/"
        },
        "id": "rjbjPCTk3jip",
        "outputId": "0827447c-c36f-40cf-d373-8bcdca0d82cb"
      },
      "execution_count": 49,
      "outputs": [
        {
          "output_type": "stream",
          "name": "stdout",
          "text": [
            "Paciente:  Gerson López | fecha de nacimiento:  03-10-1999 | Doctor:  Melvin Ortiz | Colegiado:  20158 |Fecha de Cita:  17-01-2023 | Hora de cita:  12:00 | Tipo de Consulta:  Medicina general | Tratamiento dos pildoras de acetaminofén cada 6 horas\n",
            "Paciente:  Karen Gómez | fecha de nacimiento:  08-05-2000 | Doctor:  Jorge Mérdia | Colegiado:  8567 |Fecha de Cita:  31-01-2023 | Hora de cita:  09:00 | Tipo de Consulta:  Medicina interna | Tratamiento Tylenol de 20 ml cada 4 horas\n",
            "Paciente:  Luis García | fecha de nacimiento:  17-01-2023 | Doctor:  Melvin Ortiz | Colegiado:  20156 |Fecha de Cita:  02-02-2023 | Hora de cita:  11:30 | Tipo de Consulta:  Medicina general | Tratamiento dos cucharadas de Pepto-Bismol cada hora hasta que la diarrea desaparezca\n"
          ]
        }
      ]
    },
    {
      "cell_type": "markdown",
      "source": [
        "Eliminar"
      ],
      "metadata": {
        "id": "jo09zPQlZm08"
      }
    },
    {
      "cell_type": "code",
      "source": [
        "lista_e.eliminar(20156,\"17-01-2023\",\"11:30\")\n",
        "lista_e.recorrer()"
      ],
      "metadata": {
        "colab": {
          "base_uri": "https://localhost:8080/"
        },
        "id": "L80GmTcHZps9",
        "outputId": "8b24c226-4b0b-4810-c7eb-6bcfeb3a460a"
      },
      "execution_count": 50,
      "outputs": [
        {
          "output_type": "stream",
          "name": "stdout",
          "text": [
            "Paciente:  Karen Gómez | fecha de nacimiento:  08-05-2000 | Doctor:  Jorge Mérdia | Colegiado:  8567 |Fecha de Cita:  31-01-2023 | Hora de cita:  09:00 | Tipo de Consulta:  Medicina interna | Tratamiento Tylenol de 20 ml cada 4 horas\n",
            "Paciente:  Luis García | fecha de nacimiento:  17-01-2023 | Doctor:  Melvin Ortiz | Colegiado:  20156 |Fecha de Cita:  02-02-2023 | Hora de cita:  11:30 | Tipo de Consulta:  Medicina general | Tratamiento dos cucharadas de Pepto-Bismol cada hora hasta que la diarrea desaparezca\n"
          ]
        }
      ]
    },
    {
      "cell_type": "code",
      "source": [
        "lista_e.eliminar(8567,\"31-01-2023\",\"09:00\")\n",
        "lista_e.recorrer()"
      ],
      "metadata": {
        "colab": {
          "base_uri": "https://localhost:8080/"
        },
        "id": "giPgNgxYbzSz",
        "outputId": "be7c91d3-a208-4cd0-8aa3-36ce048cdd23"
      },
      "execution_count": 51,
      "outputs": [
        {
          "output_type": "stream",
          "name": "stdout",
          "text": [
            "Paciente:  Luis García | fecha de nacimiento:  17-01-2023 | Doctor:  Melvin Ortiz | Colegiado:  20156 |Fecha de Cita:  02-02-2023 | Hora de cita:  11:30 | Tipo de Consulta:  Medicina general | Tratamiento dos cucharadas de Pepto-Bismol cada hora hasta que la diarrea desaparezca\n"
          ]
        }
      ]
    },
    {
      "cell_type": "markdown",
      "source": [
        "Modificar paramétros de un nodo\n"
      ],
      "metadata": {
        "id": "U4-bdG-niXTb"
      }
    },
    {
      "cell_type": "code",
      "source": [
        "lista_e.modificar(\"Luis García\")\n",
        "lista_e.recorrer()"
      ],
      "metadata": {
        "colab": {
          "base_uri": "https://localhost:8080/"
        },
        "id": "eGv5ULsxid9v",
        "outputId": "23ab425a-3ab6-4e18-d3de-49b642f1e17a"
      },
      "execution_count": 52,
      "outputs": [
        {
          "output_type": "stream",
          "name": "stdout",
          "text": [
            "Paciente:  Luis García | fecha de nacimiento:  17-01-2023 | Doctor:  Melvin Ortiz | Colegiado:  20156 |Fecha de Cita:  07-07-2025 | Hora de cita:  08:45 | Tipo de Consulta:  Medicina general | Tratamiento dos cucharadas de Pepto-Bismol cada hora hasta que la diarrea desaparezca\n"
          ]
        }
      ]
    }
  ]
}