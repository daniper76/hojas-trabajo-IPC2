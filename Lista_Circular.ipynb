{
  "cells": [
    {
      "cell_type": "markdown",
      "metadata": {
        "id": "KxpmnqUxq6Lc"
      },
      "source": [
        "Receta"
      ]
    },
    {
      "cell_type": "code",
      "execution_count": 1,
      "metadata": {
        "id": "vOa-Zr7io8e_"
      },
      "outputs": [],
      "source": [
        "class receta:\n",
        "  def __init__(self,paciente,fecha_nac,doctor,colegiado,fecha_cita,hora_cita,tipo_consulta,tratamiento):\n",
        "   self.paciente=paciente\n",
        "   self.fecha_nac=fecha_nac\n",
        "   self.doctor=doctor\n",
        "   self.colegiado=colegiado\n",
        "   self.fecha_cita=fecha_cita\n",
        "   self.hora_cita=hora_cita\n",
        "   self.tipo_consulta=tipo_consulta\n",
        "   self.tratamiento=tratamiento"
      ]
    },
    {
      "cell_type": "markdown",
      "metadata": {
        "id": "3JOSkvJqpCTD"
      },
      "source": [
        "nodo\n"
      ]
    },
    {
      "cell_type": "code",
      "execution_count": 2,
      "metadata": {
        "id": "4PAkHnPOpDb1"
      },
      "outputs": [],
      "source": [
        "class nodo:\n",
        "  def __init__(self,receta=None,siguiente=None):\n",
        "    self.receta=receta\n",
        "    self.siguiente=siguiente"
      ]
    },
    {
      "cell_type": "markdown",
      "metadata": {
        "id": "4ZNjDojppWHL"
      },
      "source": [
        "lista circular\n"
      ]
    },
    {
      "cell_type": "code",
      "execution_count": 3,
      "metadata": {
        "id": "L-wDvmwWpYBr"
      },
      "outputs": [],
      "source": [
        "class lista_circular:\n",
        "  def __init__(self,) -> None:\n",
        "    self.primero=None\n",
        "\n",
        "  def insertar(self,receta):\n",
        "    if self.primero is None:\n",
        "      self.primero=nodo(receta=receta)\n",
        "      self.primero.siguiente=self.primero\n",
        "    else:\n",
        "      actual=nodo(receta=receta,siguiente=self.primero.siguiente)\n",
        "      self.primero.siguiente=actual\n",
        "\n",
        "  def recorrer(self):\n",
        "    if self.primero is None:\n",
        "      return\n",
        "    actual=self.primero\n",
        "    print(\"Paciente: \", actual.receta.paciente, \"| fecha de nacimiento: \", actual.receta.fecha_nac, \"| Doctor: \", actual.receta.doctor, \"| Colegiado: \", actual.receta.colegiado, \"|Fecha de Cita: \", actual.receta.fecha_cita, \"| Hora de cita: \", actual.receta.hora_cita, \"| Tipo de Consulta: \", actual.receta.tipo_consulta, \"| Tratamiento\", actual.receta.tratamiento)\n",
        "    \n",
        "    while actual.siguiente!=self.primero:\n",
        "      actual=actual.siguiente\n",
        "      print(\"Paciente: \", actual.receta.paciente, \"| fecha de nacimiento: \", actual.receta.fecha_nac, \"| Doctor: \", actual.receta.doctor, \"| Colegiado: \", actual.receta.colegiado, \"|Fecha de Cita: \", actual.receta.fecha_cita, \"| Hora de cita: \", actual.receta.hora_cita, \"| Tipo de Consulta: \", actual.receta.tipo_consulta, \"| Tratamiento\", actual.receta.tratamiento)\n",
        "     \n",
        "  def eliminar(self,colegiado,fecha_cita,hora_cita):\n",
        "    actual=self.primero\n",
        "    anterior=None\n",
        "    no_encontrado=False\n",
        "\n",
        "    while actual and actual.receta.colegiado != colegiado and actual.receta.fecha_cita != fecha_cita and actual.receta.hora_cita != hora_cita:\n",
        "      anterior=actual\n",
        "      actual=actual.siguiente\n",
        "\n",
        "      if actual==self.primero:\n",
        "        no_encontrado=True\n",
        "        print(\"No encontrado\")\n",
        "        break\n",
        "      \n",
        "      if not no_encontrado:\n",
        "        if anterior is not None:\n",
        "          anterior.siguiente=actual.siguiente\n",
        "          actual.siguiente=None\n",
        "        else:\n",
        "          while actual.siguiente!=self.primero:\n",
        "            actual=actual.siguiente\n",
        "          actual.siguiente=self.primero.siguiente\n",
        "          self.primero=self.primero.siguiente\n",
        "\n",
        "  def modificar(self, paciente):\n",
        "      actual=self.primero\n",
        "\n",
        "      while actual is not None:\n",
        "        if actual.receta.paciente==paciente:\n",
        "          actual.receta.fecha_cita=\"07-07-2025\"\n",
        "          actual.receta.hora_cita=\"08:45\"\n",
        "          return\n",
        "        actual=actual.siguiente\n",
        "    \n",
        "      \n",
        "\n",
        "\n"
      ]
    },
    {
      "cell_type": "markdown",
      "metadata": {
        "id": "rnSAAf6Vqm9Q"
      },
      "source": [
        "Creación de objeto Receta\n"
      ]
    },
    {
      "cell_type": "code",
      "execution_count": 4,
      "metadata": {
        "id": "LAw_eSO1qqXt"
      },
      "outputs": [],
      "source": [
        "r1=receta(\"Gerson López\",\"03-10-1999\",\"Melvin Ortiz\",20158,\"17-01-2023\",\"12:00\",\"Medicina general\",\"dos pildoras de acetaminofén cada 6 horas\")\n",
        "r2=receta(\"Karen Gómez\",\"08-05-2000\",\"Jorge Mérdia\",8567,\"31-01-2023\",\"09:00\",\"Medicina interna\",\"Tylenol de 20 ml cada 4 horas\")\n",
        "r3=receta(\"Luis García\",\"17-01-2023\",\"Melvin Ortiz\",20156,\"02-02-2023\",\"11:30\",\"Medicina general\",\"dos cucharadas de Pepto-Bismol cada hora hasta que la diarrea desaparezca\")"
      ]
    },
    {
      "cell_type": "markdown",
      "metadata": {
        "id": "1loVjHTfquSt"
      },
      "source": [
        "Inserción"
      ]
    },
    {
      "cell_type": "code",
      "execution_count": 5,
      "metadata": {
        "id": "_lli6UTGqwHC"
      },
      "outputs": [],
      "source": [
        "lista_c=lista_circular()\n",
        "lista_c.insertar(r1)\n",
        "lista_c.insertar(r2)\n",
        "lista_c.insertar(r3)"
      ]
    },
    {
      "cell_type": "markdown",
      "source": [
        "Recorrer Lista"
      ],
      "metadata": {
        "id": "arfnYiIIxL--"
      }
    },
    {
      "cell_type": "code",
      "source": [
        "lista_c.recorrer()"
      ],
      "metadata": {
        "colab": {
          "base_uri": "https://localhost:8080/"
        },
        "id": "WjHBtyWtxNh1",
        "outputId": "4719189e-14c9-46e8-affc-b10abbe3ee7f"
      },
      "execution_count": 6,
      "outputs": [
        {
          "output_type": "stream",
          "name": "stdout",
          "text": [
            "Paciente:  Gerson López | fecha de nacimiento:  03-10-1999 | Doctor:  Melvin Ortiz | Colegiado:  20158 |Fecha de Cita:  17-01-2023 | Hora de cita:  12:00 | Tipo de Consulta:  Medicina general | Tratamiento dos pildoras de acetaminofén cada 6 horas\n",
            "Paciente:  Luis García | fecha de nacimiento:  17-01-2023 | Doctor:  Melvin Ortiz | Colegiado:  20156 |Fecha de Cita:  02-02-2023 | Hora de cita:  11:30 | Tipo de Consulta:  Medicina general | Tratamiento dos cucharadas de Pepto-Bismol cada hora hasta que la diarrea desaparezca\n",
            "Paciente:  Karen Gómez | fecha de nacimiento:  08-05-2000 | Doctor:  Jorge Mérdia | Colegiado:  8567 |Fecha de Cita:  31-01-2023 | Hora de cita:  09:00 | Tipo de Consulta:  Medicina interna | Tratamiento Tylenol de 20 ml cada 4 horas\n"
          ]
        }
      ]
    },
    {
      "cell_type": "markdown",
      "source": [
        "Eliminar\n"
      ],
      "metadata": {
        "id": "Kx9o1jMqBTEy"
      }
    },
    {
      "cell_type": "code",
      "source": [
        "lista_c.eliminar(20156,\"02-02-2023\",\"11:30\")\n",
        "lista_c.recorrer()"
      ],
      "metadata": {
        "colab": {
          "base_uri": "https://localhost:8080/"
        },
        "id": "XR2XYgKfBUX3",
        "outputId": "411da477-c0ea-4b15-a2f4-cad19b0318aa"
      },
      "execution_count": 7,
      "outputs": [
        {
          "output_type": "stream",
          "name": "stdout",
          "text": [
            "Paciente:  Gerson López | fecha de nacimiento:  03-10-1999 | Doctor:  Melvin Ortiz | Colegiado:  20158 |Fecha de Cita:  17-01-2023 | Hora de cita:  12:00 | Tipo de Consulta:  Medicina general | Tratamiento dos pildoras de acetaminofén cada 6 horas\n",
            "Paciente:  Karen Gómez | fecha de nacimiento:  08-05-2000 | Doctor:  Jorge Mérdia | Colegiado:  8567 |Fecha de Cita:  31-01-2023 | Hora de cita:  09:00 | Tipo de Consulta:  Medicina interna | Tratamiento Tylenol de 20 ml cada 4 horas\n"
          ]
        }
      ]
    },
    {
      "cell_type": "code",
      "source": [
        "lista_c.eliminar(8567,\"31-01-2023\",\"09:00\")\n",
        "lista_c.recorrer()"
      ],
      "metadata": {
        "colab": {
          "base_uri": "https://localhost:8080/"
        },
        "id": "VxteDPFuCNCM",
        "outputId": "c1975e1d-ea0d-4911-f180-8e36c0c47e0d"
      },
      "execution_count": 8,
      "outputs": [
        {
          "output_type": "stream",
          "name": "stdout",
          "text": [
            "Paciente:  Gerson López | fecha de nacimiento:  03-10-1999 | Doctor:  Melvin Ortiz | Colegiado:  20158 |Fecha de Cita:  17-01-2023 | Hora de cita:  12:00 | Tipo de Consulta:  Medicina general | Tratamiento dos pildoras de acetaminofén cada 6 horas\n"
          ]
        }
      ]
    },
    {
      "cell_type": "markdown",
      "source": [],
      "metadata": {
        "id": "iuEvQ_KE7jcl"
      }
    },
    {
      "cell_type": "markdown",
      "source": [
        "Modificar parametros del nodo"
      ],
      "metadata": {
        "id": "maU673qrQyJi"
      }
    },
    {
      "cell_type": "code",
      "source": [
        "lista_c.modificar(\"Gerson López\")\n",
        "lista_c.recorrer()"
      ],
      "metadata": {
        "colab": {
          "base_uri": "https://localhost:8080/"
        },
        "id": "3bL4hFhNQ9cr",
        "outputId": "5b2124e1-e9e8-4222-81e9-1aa4e53d3775"
      },
      "execution_count": 11,
      "outputs": [
        {
          "output_type": "stream",
          "name": "stdout",
          "text": [
            "Paciente:  Gerson López | fecha de nacimiento:  03-10-1999 | Doctor:  Melvin Ortiz | Colegiado:  20158 |Fecha de Cita:  07-07-2025 | Hora de cita:  08:45 | Tipo de Consulta:  Medicina general | Tratamiento dos pildoras de acetaminofén cada 6 horas\n"
          ]
        }
      ]
    }
  ],
  "metadata": {
    "colab": {
      "provenance": []
    },
    "kernelspec": {
      "display_name": "Python 3",
      "name": "python3"
    },
    "language_info": {
      "name": "python"
    }
  },
  "nbformat": 4,
  "nbformat_minor": 0
}